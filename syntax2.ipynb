{
 "cells": [
  {
   "cell_type": "code",
   "execution_count": 10,
   "metadata": {},
   "outputs": [],
   "source": [
    "import os\n",
    "path_to_result = 'D:/Nika/3/lingstylo/stanza_allposgram/corpus'\n",
    "path_to_tags = 'D:/Nika/3/lingstylo/stanza_parsed_texts/corpus'\n",
    "#os.makedirs(path_to_result)\n",
    "#os.makedirs(path_to_tags)\n",
    "#a = set()\n",
    "for path, dirs, files in os.walk('D:/Nika/3/lingstylo/stanza_parsed_texts/corpus'):\n",
    "    for file in files:\n",
    "        test(path, file, path_to_tags, path_to_result)\n",
    "        #a = a.union(b)"
   ]
  },
  {
   "cell_type": "code",
   "execution_count": 30,
   "metadata": {
    "scrolled": false
   },
   "outputs": [
    {
     "data": {
      "text/plain": [
       "set()"
      ]
     },
     "execution_count": 30,
     "metadata": {},
     "output_type": "execute_result"
    }
   ],
   "source": [
    "upos = []\n",
    "deprel = []\n",
    "\n",
    "for i in list(a):\n",
    "    upos.append(i.upos)\n",
    "    deprel.append(i.deprel)\n",
    "set(deprel)\n",
    "set(upos)"
   ]
  },
  {
   "cell_type": "code",
   "execution_count": 26,
   "metadata": {},
   "outputs": [
    {
     "data": {
      "text/plain": [
       "{'ADP',\n",
       " 'AUX',\n",
       " 'CCONJ',\n",
       " 'DET',\n",
       " 'INTJ',\n",
       " 'NUM',\n",
       " 'PART',\n",
       " 'PRON',\n",
       " 'PROPN',\n",
       " 'PUNCT',\n",
       " 'SCONJ'}"
      ]
     },
     "execution_count": 26,
     "metadata": {},
     "output_type": "execute_result"
    }
   ],
   "source": [
    "set(upos)"
   ]
  },
  {
   "cell_type": "code",
   "execution_count": 27,
   "metadata": {},
   "outputs": [
    {
     "data": {
      "text/plain": [
       "{'<PAD>',\n",
       " 'acl',\n",
       " 'advcl',\n",
       " 'advmod',\n",
       " 'amod',\n",
       " 'appos',\n",
       " 'aux',\n",
       " 'case',\n",
       " 'cc',\n",
       " 'ccomp',\n",
       " 'conj',\n",
       " 'cop',\n",
       " 'det',\n",
       " 'discourse',\n",
       " 'expl',\n",
       " 'fixed',\n",
       " 'flat:foreign',\n",
       " 'mark',\n",
       " 'nmod',\n",
       " 'nsubj',\n",
       " 'nummod',\n",
       " 'nummod:gov',\n",
       " 'obj',\n",
       " 'obl',\n",
       " 'orphan',\n",
       " 'parataxis',\n",
       " 'punct',\n",
       " 'root'}"
      ]
     },
     "execution_count": 27,
     "metadata": {},
     "output_type": "execute_result"
    }
   ],
   "source": [
    "set(deprel)"
   ]
  },
  {
   "cell_type": "code",
   "execution_count": 7,
   "metadata": {},
   "outputs": [],
   "source": [
    "from stanza.models.common.doc import Document\n",
    "import json\n",
    "import re"
   ]
  },
  {
   "cell_type": "code",
   "execution_count": null,
   "metadata": {},
   "outputs": [],
   "source": [
    "result = re.sub(r'3', 'third', )"
   ]
  },
  {
   "cell_type": "code",
   "execution_count": 1,
   "metadata": {},
   "outputs": [],
   "source": [
    "def test(path, file, path_to_tags, path_to_result):\n",
    "    with open(path_to_tags + '/' + file, 'r', encoding='utf-8') as f:\n",
    "        data = f.read()\n",
    "\n",
    "    all_tags_text = Document(json.loads(data))\n",
    "    \n",
    "    result_list = []\n",
    "    #strange_list = []\n",
    "\n",
    "    for sent in all_tags_text.sentences:\n",
    "        for word in sent.words:\n",
    "            '''if word.feats:\n",
    "                #print(word.text)\n",
    "                postags = ''.join((i.split('=')[1] for i in word.feats.split('|')))\n",
    "                result_list.append(word.upos + postags)\n",
    "            else:\n",
    "                strange_list.append(word)'''\n",
    "            result_list.append(word.upos)\n",
    "                \n",
    "    result = ' '.join(result_list)\n",
    "\n",
    "    with open(path_to_result + '/' + file, 'w', encoding='utf-8') as f:\n",
    "        f.write(result)\n",
    "        \n",
    "    #return set(strange_list)"
   ]
  },
  {
   "cell_type": "code",
   "execution_count": 8,
   "metadata": {},
   "outputs": [],
   "source": [
    "def test(path, file, path_to_tags, path_to_result):\n",
    "    with open(path_to_tags + '/' + file, 'r', encoding='utf-8') as f:\n",
    "        data = f.read()\n",
    "\n",
    "    all_tags_text = Document(json.loads(data))\n",
    "    \n",
    "    result_list = []\n",
    "    #strange_list = []\n",
    "\n",
    "    for sent in all_tags_text.sentences:\n",
    "        for word in sent.words:\n",
    "            postags = ''\n",
    "            if word.feats:\n",
    "                postags = ''.join((i.split('=')[1] for i in word.feats.split('|')))\n",
    "                postags = re.sub(r'3', 'third', postags)\n",
    "                postags = re.sub(r'2', 'second', postags)\n",
    "                postags = re.sub(r'1', 'first', postags)\n",
    "                \n",
    "            result_list.append(word.upos + postags)\n",
    "\n",
    "                \n",
    "    result = ' '.join(result_list)\n",
    "\n",
    "    with open(path_to_result + '/' + file, 'w', encoding='utf-8') as f:\n",
    "        f.write(result)\n",
    "        \n",
    "    #return set(strange_list)"
   ]
  },
  {
   "cell_type": "code",
   "execution_count": 11,
   "metadata": {},
   "outputs": [],
   "source": [
    "import stanza"
   ]
  },
  {
   "cell_type": "code",
   "execution_count": 12,
   "metadata": {},
   "outputs": [
    {
     "name": "stderr",
     "output_type": "stream",
     "text": [
      "2021-05-14 01:46:04 INFO: Loading these models for language: ru (Russian):\n",
      "=========================\n",
      "| Processor | Package   |\n",
      "-------------------------\n",
      "| tokenize  | syntagrus |\n",
      "| pos       | syntagrus |\n",
      "| lemma     | syntagrus |\n",
      "| depparse  | syntagrus |\n",
      "=========================\n",
      "\n",
      "2021-05-14 01:46:04 INFO: Use device: cpu\n",
      "2021-05-14 01:46:04 INFO: Loading: tokenize\n",
      "2021-05-14 01:46:05 INFO: Loading: pos\n",
      "2021-05-14 01:46:08 INFO: Loading: lemma\n",
      "2021-05-14 01:46:10 INFO: Loading: depparse\n",
      "2021-05-14 01:46:14 INFO: Done loading processors!\n"
     ]
    },
    {
     "name": "stdout",
     "output_type": "stream",
     "text": [
      "id: 1\tword: Волга\thead id: 2\thead: впадает\tdeprel: nsubj\n",
      "id: 2\tword: впадает\thead id: 0\thead: root\tdeprel: root\n",
      "id: 3\tword: в\thead id: 5\thead: море\tdeprel: case\n",
      "id: 4\tword: Каспийское\thead id: 5\thead: море\tdeprel: amod\n",
      "id: 5\tword: море\thead id: 2\thead: впадает\tdeprel: obl\n",
      "id: 6\tword: .\thead id: 2\thead: впадает\tdeprel: punct\n",
      "id: 1\tword: Новое\thead id: 2\thead: время\tdeprel: amod\n",
      "id: 2\tword: время\thead id: 0\thead: root\tdeprel: root\n"
     ]
    }
   ],
   "source": [
    "nlp = stanza.Pipeline(lang='ru', processors='tokenize,pos,lemma,depparse')\n",
    "doc = nlp('''Волга впадает в Каспийское море.\n",
    "Новое время''')\n",
    "print(*[f'id: {word.id}\\tword: {word.text}\\thead id: {word.head}\\thead: {sent.words[word.head-1].text if word.head > 0 else \"root\"}\\tdeprel: {word.deprel}' for sent in doc.sentences for word in sent.words], sep='\\n')"
   ]
  },
  {
   "cell_type": "code",
   "execution_count": 13,
   "metadata": {},
   "outputs": [
    {
     "data": {
      "text/plain": [
       "[\n",
       "  [\n",
       "    {\n",
       "      \"id\": 1,\n",
       "      \"text\": \"Волга\",\n",
       "      \"lemma\": \"Волга\",\n",
       "      \"upos\": \"NOUN\",\n",
       "      \"feats\": \"Animacy=Inan|Case=Nom|Gender=Fem|Number=Sing\",\n",
       "      \"head\": 2,\n",
       "      \"deprel\": \"nsubj\",\n",
       "      \"misc\": \"start_char=0|end_char=5\"\n",
       "    },\n",
       "    {\n",
       "      \"id\": 2,\n",
       "      \"text\": \"впадает\",\n",
       "      \"lemma\": \"впадать\",\n",
       "      \"upos\": \"VERB\",\n",
       "      \"feats\": \"Aspect=Imp|Mood=Ind|Number=Sing|Person=3|Tense=Pres|VerbForm=Fin|Voice=Act\",\n",
       "      \"head\": 0,\n",
       "      \"deprel\": \"root\",\n",
       "      \"misc\": \"start_char=6|end_char=13\"\n",
       "    },\n",
       "    {\n",
       "      \"id\": 3,\n",
       "      \"text\": \"в\",\n",
       "      \"lemma\": \"в\",\n",
       "      \"upos\": \"ADP\",\n",
       "      \"head\": 5,\n",
       "      \"deprel\": \"case\",\n",
       "      \"misc\": \"start_char=14|end_char=15\"\n",
       "    },\n",
       "    {\n",
       "      \"id\": 4,\n",
       "      \"text\": \"Каспийское\",\n",
       "      \"lemma\": \"Каспийский\",\n",
       "      \"upos\": \"PROPN\",\n",
       "      \"head\": 5,\n",
       "      \"deprel\": \"amod\",\n",
       "      \"misc\": \"start_char=16|end_char=26\"\n",
       "    },\n",
       "    {\n",
       "      \"id\": 5,\n",
       "      \"text\": \"море\",\n",
       "      \"lemma\": \"море\",\n",
       "      \"upos\": \"NOUN\",\n",
       "      \"feats\": \"Animacy=Inan|Case=Acc|Gender=Neut|Number=Sing\",\n",
       "      \"head\": 2,\n",
       "      \"deprel\": \"obl\",\n",
       "      \"misc\": \"start_char=27|end_char=31\"\n",
       "    },\n",
       "    {\n",
       "      \"id\": 6,\n",
       "      \"text\": \".\",\n",
       "      \"lemma\": \".\",\n",
       "      \"upos\": \"PUNCT\",\n",
       "      \"head\": 2,\n",
       "      \"deprel\": \"punct\",\n",
       "      \"misc\": \"start_char=31|end_char=32\"\n",
       "    }\n",
       "  ],\n",
       "  [\n",
       "    {\n",
       "      \"id\": 1,\n",
       "      \"text\": \"Новое\",\n",
       "      \"lemma\": \"новый\",\n",
       "      \"upos\": \"ADJ\",\n",
       "      \"feats\": \"Case=Nom|Degree=Pos|Gender=Neut|Number=Sing\",\n",
       "      \"head\": 2,\n",
       "      \"deprel\": \"amod\",\n",
       "      \"misc\": \"start_char=33|end_char=38\"\n",
       "    },\n",
       "    {\n",
       "      \"id\": 2,\n",
       "      \"text\": \"время\",\n",
       "      \"lemma\": \"время\",\n",
       "      \"upos\": \"NOUN\",\n",
       "      \"feats\": \"Animacy=Inan|Case=Nom|Gender=Neut|Number=Sing\",\n",
       "      \"head\": 0,\n",
       "      \"deprel\": \"root\",\n",
       "      \"misc\": \"start_char=39|end_char=44\"\n",
       "    }\n",
       "  ]\n",
       "]"
      ]
     },
     "execution_count": 13,
     "metadata": {},
     "output_type": "execute_result"
    }
   ],
   "source": [
    "doc"
   ]
  }
 ],
 "metadata": {
  "kernelspec": {
   "display_name": "Python 3",
   "language": "python",
   "name": "python3"
  },
  "language_info": {
   "codemirror_mode": {
    "name": "ipython",
    "version": 3
   },
   "file_extension": ".py",
   "mimetype": "text/x-python",
   "name": "python",
   "nbconvert_exporter": "python",
   "pygments_lexer": "ipython3",
   "version": "3.7.4"
  }
 },
 "nbformat": 4,
 "nbformat_minor": 2
}
